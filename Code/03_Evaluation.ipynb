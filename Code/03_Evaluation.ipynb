{
 "cells": [
  {
   "cell_type": "markdown",
   "id": "e741d79c-c714-40d7-99fa-69f81412b160",
   "metadata": {},
   "source": [
    "# Numeric evaluation of deep chroma estimator\n",
    "\n",
    "Johannes Zeitler (johannes.zeitler@audiolabs-erlangen.de), 2023\n",
    "\n",
    "Code base for ISMIR 2023 paper "
   ]
  },
  {
   "cell_type": "code",
   "execution_count": 1,
   "id": "15bb3d4c-02c7-4e05-bca2-8258fc8fdaaf",
   "metadata": {
    "papermill": {
     "duration": 0.027692,
     "end_time": "2023-03-21T09:20:46.156541",
     "exception": false,
     "start_time": "2023-03-21T09:20:46.128849",
     "status": "completed"
    },
    "tags": []
   },
   "outputs": [],
   "source": [
    "import os\n",
    "import sys"
   ]
  },
  {
   "cell_type": "code",
   "execution_count": 2,
   "id": "ff64d343-f312-4adb-af06-7a835168bbdb",
   "metadata": {
    "papermill": {
     "duration": 0.01775,
     "end_time": "2023-03-21T09:20:46.208782",
     "exception": false,
     "start_time": "2023-03-21T09:20:46.191032",
     "status": "completed"
    },
    "tags": []
   },
   "outputs": [],
   "source": [
    "# make only GPU 0 visible\n",
    "os.environ['CUDA_VISIBLE_DEVICES']='0'\n",
    "\n",
    "#device_train = 'cpu'\n",
    "device_train = 'cuda:0'\n",
    "\n",
    "#device_test = 'cpu'\n",
    "device_test = 'cuda:0'"
   ]
  },
  {
   "cell_type": "code",
   "execution_count": null,
   "id": "4ab488ed-046d-45b1-8663-ddbb945d0660",
   "metadata": {
    "papermill": {
     "duration": 3.654535,
     "end_time": "2023-03-21T09:20:49.928310",
     "exception": false,
     "start_time": "2023-03-21T09:20:46.273775",
     "status": "completed"
    },
    "tags": []
   },
   "outputs": [],
   "source": [
    "import libfmp.b\n",
    "import libfmp.c3\n",
    "import libfmp.c4\n",
    "import libfmp.c5\n",
    "import librosa\n",
    "import matplotlib\n",
    "from matplotlib import pyplot as plt\n",
    "import numpy as np\n",
    "from time import time, gmtime, strftime\n",
    "import torch \n",
    "import torch.nn.functional as F\n",
    "\n",
    "from libdl.nn_models import *\n",
    "from libdl.data_loaders.parallelDataset import ParallelHCQTLoader \n",
    "from libdl.metrics import early_stopping\n",
    "from libdl.training import Trainer\n",
    "from libdl.data_loaders.parallelDataset import ParallelHCQTLoader \n",
    "from libdl.nn_losses.soft_dtw_cuda import SoftDTW\n",
    "\n",
    "\n",
    "from torchinfo import summary\n",
    "import h5py\n",
    "from scipy.signal import convolve2d"
   ]
  },
  {
   "cell_type": "code",
   "execution_count": 4,
   "id": "2bcfcd66-7d36-4116-9895-26f59b06e9f7",
   "metadata": {
    "tags": [
     "parameters"
    ]
   },
   "outputs": [],
   "source": [
    "batch_size = 32\n",
    "num_targets = 500\n",
    "\n",
    "# Set model parameters\n",
    "n_chan_input=5               # C\n",
    "n_chan_layers=[20,20,10,1]   # N0, N1, N2, N3\n",
    "n_bins_in=216                # P * B = 72 * 3\n",
    "n_bins_out=12                # chromas\n",
    "a_lrelu=0.3\n",
    "p_dropout=0.0"
   ]
  },
  {
   "cell_type": "code",
   "execution_count": 5,
   "id": "39650b8a-405f-4a2c-a3db-c44349994753",
   "metadata": {},
   "outputs": [
    {
     "data": {
      "text/plain": [
       "basic_cnn_segm_sigmoid(\n",
       "  (layernorm): LayerNorm((5, 216), eps=1e-05, elementwise_affine=True)\n",
       "  (conv1): Sequential(\n",
       "    (0): Conv2d(5, 20, kernel_size=(15, 15), stride=(1, 1), padding=(7, 7))\n",
       "    (1): LeakyReLU(negative_slope=0.3)\n",
       "    (2): MaxPool2d(kernel_size=(3, 1), stride=(1, 1), padding=(1, 0), dilation=1, ceil_mode=False)\n",
       "    (3): Dropout(p=0.0, inplace=False)\n",
       "  )\n",
       "  (conv2): Sequential(\n",
       "    (0): Conv2d(20, 20, kernel_size=(3, 3), stride=(1, 3), padding=(1, 0))\n",
       "    (1): LeakyReLU(negative_slope=0.3)\n",
       "    (2): MaxPool2d(kernel_size=(13, 1), stride=(1, 1), padding=(6, 0), dilation=1, ceil_mode=False)\n",
       "    (3): Dropout(p=0.0, inplace=False)\n",
       "  )\n",
       "  (conv3): Sequential(\n",
       "    (0): Conv2d(20, 10, kernel_size=(75, 1), stride=(1, 1))\n",
       "    (1): LeakyReLU(negative_slope=0.3)\n",
       "    (2): Dropout(p=0.0, inplace=False)\n",
       "  )\n",
       "  (conv4): Sequential(\n",
       "    (0): Conv2d(10, 1, kernel_size=(1, 1), stride=(1, 1))\n",
       "    (1): LeakyReLU(negative_slope=0.3)\n",
       "    (2): Dropout(p=0.0, inplace=False)\n",
       "    (3): Conv2d(1, 1, kernel_size=(1, 61), stride=(1, 1))\n",
       "    (4): Sigmoid()\n",
       "  )\n",
       ")"
      ]
     },
     "execution_count": 5,
     "metadata": {},
     "output_type": "execute_result"
    }
   ],
   "source": [
    "checkpoint_dir = os.path.join(\"../\", \"Models\", \"Final\",)\n",
    "\n",
    "model_name = \"Chroma_Estimation_baseline_strong_run0.pt\"\n",
    "\n",
    "model = basic_cnn_segm_sigmoid(n_chan_input, n_chan_layers, n_bins_in, n_bins_out, a_lrelu, p_dropout)\n",
    "model.load_state_dict(torch.load(os.path.join(checkpoint_dir, model_name)))\n",
    "\n",
    "model.to(device_test)\n",
    "model.eval()"
   ]
  },
  {
   "cell_type": "code",
   "execution_count": 6,
   "id": "2387a9fa-d60e-4f35-99f5-b263a58dae0c",
   "metadata": {},
   "outputs": [],
   "source": [
    "data_path = \"../Data/Schubert_Winterreise_hcqt\"\n",
    "test_versions = ['HU33', 'SC06']\n",
    "\n",
    "fileList_test =  []\n",
    "\n",
    "for f in os.listdir(data_path):\n",
    "    if '.h5' in f:\n",
    "        for version in test_versions:\n",
    "            if version in f:\n",
    "                fileList_test.append(os.path.join(data_path, f))\n",
    "fileList_test.sort()\n"
   ]
  },
  {
   "cell_type": "code",
   "execution_count": 7,
   "id": "bc8fc451-958e-49eb-a811-eb8401f14e37",
   "metadata": {},
   "outputs": [],
   "source": [
    "test_loader = ParallelHCQTLoader(fileList=fileList_test,\n",
    "          stride=100, # choose always the same segments from each file with a shift of 100\n",
    "          max_workers=8, \n",
    "          batch_size=batch_size,\n",
    "          numContextFrames=num_targets+74,\n",
    "          verbose=False,\n",
    "          shuffle=False,\n",
    "          jointContextLoading=False,\n",
    "          data_label=\"hcqt\",\n",
    "          target_label=\"chroma\",\n",
    "          cycle=False,\n",
    "          num_targets=num_targets,\n",
    "          weak_labels=True,\n",
    "          expand_weak_labels=False)\n",
    "\n",
    "test_loader_strong = ParallelHCQTLoader(fileList=fileList_test,\n",
    "          stride=100, # choose always the same segments from each file with a shift of 100\n",
    "          max_workers=8, \n",
    "          batch_size=batch_size,\n",
    "          numContextFrames=num_targets+74,\n",
    "          verbose=False,\n",
    "          shuffle=False,\n",
    "          jointContextLoading=False,\n",
    "          data_label=\"hcqt\",\n",
    "          target_label=\"chroma\",\n",
    "          cycle=False,\n",
    "          num_targets=num_targets,\n",
    "          weak_labels=False,\n",
    "          expand_weak_labels=False)"
   ]
  },
  {
   "cell_type": "code",
   "execution_count": 8,
   "id": "7db2e5f8-3596-4629-9c3f-3a711d8605e3",
   "metadata": {},
   "outputs": [],
   "source": [
    "all_labels = []\n",
    "all_preds = []\n",
    "model.eval()\n",
    "model.to(device_test)\n",
    "with torch.no_grad():\n",
    "    for i, (x, y) in enumerate(test_loader_strong):\n",
    "        x = x.to(device_test)\n",
    "        all_labels.append(y)\n",
    "        all_preds.append(model(x))\n",
    "\n",
    "lastIdx = len(all_labels)\n",
    "if all_labels[-1].shape[0] != all_labels[0].shape[0]:\n",
    "    lastIdx -= 1\n",
    "\n",
    "all_labels_concat = torch.stack(all_labels[:lastIdx]).cpu().numpy()\n",
    "all_preds_concat = torch.stack(all_preds[:lastIdx]).cpu().numpy()"
   ]
  },
  {
   "cell_type": "code",
   "execution_count": 9,
   "id": "0998e17a-4918-466d-885f-18d000ec4084",
   "metadata": {},
   "outputs": [
    {
     "name": "stdout",
     "output_type": "stream",
     "text": [
      "Precision:      0.840\n",
      "Recall:         0.870\n",
      "F-measure:      0.855\n"
     ]
    }
   ],
   "source": [
    "prec, rec, fmeas, _, _, _ = libfmp.c5.compute_eval_measures(all_labels_concat, all_preds_concat>.5)\n",
    "\n",
    "print(f'{\"Precision:\" : <15}{prec : .3f}')\n",
    "print(f'{\"Recall:\" : <15}{rec : .3f}')\n",
    "print(f'{\"F-measure:\" : <15}{fmeas : .3f}')"
   ]
  },
  {
   "cell_type": "code",
   "execution_count": 10,
   "id": "29ddf852-9b8f-4212-917a-493675b432ff",
   "metadata": {},
   "outputs": [
    {
     "data": {
      "text/plain": [
       "Text(0, 0.5, 'Pitch class')"
      ]
     },
     "execution_count": 10,
     "metadata": {},
     "output_type": "execute_result"
    },
    {
     "data": {
      "image/png": "[encoded data removed]",
      "text/plain": [
       "<Figure size 700x700 with 4 Axes>"
      ]
     },
     "metadata": {},
     "output_type": "display_data"
    }
   ],
   "source": [
    "fig, ax = plt.subplots(2, 1, figsize=(7,7))\n",
    "\n",
    "im0 = ax[0].imshow(all_preds_concat[0,0,0].T, origin='lower', cmap='gray_r', aspect='auto', interpolation=\"None\", clim=[0,1])\n",
    "im1 = ax[1].imshow(all_labels_concat[0,0,0].T, origin='lower', cmap='gray_r', aspect='auto', interpolation=\"None\", clim=[0,1])\n",
    "\n",
    "ax[0].set_title(\"Prediction\")\n",
    "ax[1].set_title(\"Label\")\n",
    "\n",
    "plt.colorbar(im0, ax=ax[0])\n",
    "plt.colorbar(im1, ax=ax[1])\n",
    "\n",
    "ax[1].set_xlabel(\"Time (frames)\")\n",
    "ax[0].set_ylabel(\"Pitch class\")\n",
    "ax[1].set_ylabel(\"Pitch class\")"
   ]
  }
 ],
 "metadata": {
  "kernelspec": {
   "display_name": "Python 3 (ipykernel)",
   "language": "python",
   "name": "python3"
  },
  "language_info": {
   "codemirror_mode": {
    "name": "ipython",
    "version": 3
   },
   "file_extension": ".py",
   "mimetype": "text/x-python",
   "name": "python",
   "nbconvert_exporter": "python",
   "pygments_lexer": "ipython3",
   "version": "3.8.16"
  }
 },
 "nbformat": 4,
 "nbformat_minor": 5
}
