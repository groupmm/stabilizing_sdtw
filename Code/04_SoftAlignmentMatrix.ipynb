{
 "cells": [
  {
   "cell_type": "markdown",
   "id": "e50a34a2-f80d-4505-8cf3-f4b935b28d1c",
   "metadata": {},
   "source": [
    "# Visual inspection of SDTW soft alignment matrix\n",
    "\n",
    "Johannes Zeitler (johannes.zeitler@audiolabs-erlangen.de), 2023\n",
    "\n",
    "Code base for ISMIR 2023 paper "
   ]
  },
  {
   "cell_type": "code",
   "execution_count": 1,
   "id": "15bb3d4c-02c7-4e05-bca2-8258fc8fdaaf",
   "metadata": {
    "papermill": {
     "duration": 0.027692,
     "end_time": "2023-03-21T09:20:46.156541",
     "exception": false,
     "start_time": "2023-03-21T09:20:46.128849",
     "status": "completed"
    },
    "tags": []
   },
   "outputs": [],
   "source": [
    "import os\n",
    "import sys"
   ]
  },
  {
   "cell_type": "code",
   "execution_count": 2,
   "id": "ff64d343-f312-4adb-af06-7a835168bbdb",
   "metadata": {
    "papermill": {
     "duration": 0.01775,
     "end_time": "2023-03-21T09:20:46.208782",
     "exception": false,
     "start_time": "2023-03-21T09:20:46.191032",
     "status": "completed"
    },
    "tags": []
   },
   "outputs": [],
   "source": [
    "# make only GPU 0 visible\n",
    "os.environ['CUDA_VISIBLE_DEVICES']='0'\n",
    "\n",
    "#device_train = 'cpu'\n",
    "device_train = 'cuda:0'\n",
    "\n",
    "#device_test = 'cpu'\n",
    "device_test = 'cuda:0'"
   ]
  },
  {
   "cell_type": "code",
   "execution_count": null,
   "id": "4ab488ed-046d-45b1-8663-ddbb945d0660",
   "metadata": {
    "papermill": {
     "duration": 3.654535,
     "end_time": "2023-03-21T09:20:49.928310",
     "exception": false,
     "start_time": "2023-03-21T09:20:46.273775",
     "status": "completed"
    },
    "tags": []
   },
   "outputs": [],
   "source": [
    "import libfmp.b\n",
    "import libfmp.c3\n",
    "import libfmp.c4\n",
    "import libfmp.c5\n",
    "import librosa\n",
    "import matplotlib\n",
    "from matplotlib import pyplot as plt\n",
    "import numpy as np\n",
    "from time import time, gmtime, strftime\n",
    "import torch \n",
    "import torch.nn.functional as F\n",
    "\n",
    "from libdl.nn_models import *\n",
    "from libdl.data_loaders.parallelDataset import ParallelHCQTLoader \n",
    "from libdl.metrics import early_stopping\n",
    "from libdl.training import Trainer\n",
    "from libdl.data_loaders.parallelDataset import ParallelHCQTLoader \n",
    "from libdl.nn_losses.soft_dtw_cuda import SoftDTW\n",
    "\n",
    "\n",
    "from torchinfo import summary\n",
    "import h5py\n",
    "from scipy.signal import convolve2d"
   ]
  },
  {
   "cell_type": "code",
   "execution_count": 4,
   "id": "7b13a02a-a368-44e3-8cd3-8732725d6126",
   "metadata": {},
   "outputs": [],
   "source": [
    "data_path = \"../Data/Schubert_Winterreise_hcqt\"\n",
    "\n",
    "version = \"SC06\"\n",
    "song=\"11\"\n",
    "\n",
    "hcqtFile = os.path.join(data_path, \"Schubert_D911-%s_%s.h5\"%(song, version))\n",
    "\n",
    "with h5py.File(hcqtFile, \"r\") as f:\n",
    "    hcqt = f[\"hcqt\"][:]\n",
    "    chroma = f[\"chroma\"][:]\n",
    "    \n",
    "f.close()"
   ]
  },
  {
   "cell_type": "code",
   "execution_count": 5,
   "id": "9ad39698-ed7f-460d-8ce5-c547bb426f7c",
   "metadata": {},
   "outputs": [],
   "source": [
    "fs = 57.578\n",
    "oneSidedContext=37\n",
    "sec_start = 26.6 \n",
    "nFrames = 500\n",
    "\n",
    "frame_start = int(sec_start*fs)\n",
    "frame_stop = frame_start+nFrames\n",
    "\n",
    "chroma_snip_context = chroma[0,0,:,frame_start-oneSidedContext : frame_stop+oneSidedContext]\n",
    "chroma_snip = chroma[0,0,:,frame_start : frame_stop]"
   ]
  },
  {
   "cell_type": "code",
   "execution_count": 6,
   "id": "9d6ca0b4-d239-4e58-87f7-60568ea94234",
   "metadata": {},
   "outputs": [
    {
     "data": {
      "image/png": "[encoded data removed]",
      "text/plain": [
       "<Figure size 500x300 with 1 Axes>"
      ]
     },
     "metadata": {},
     "output_type": "display_data"
    }
   ],
   "source": [
    "plt.figure(figsize=(5,3))\n",
    "plt.imshow(chroma_snip, origin='lower', cmap='gray_r', aspect='auto', interpolation='none')\n",
    "plt.show()"
   ]
  },
  {
   "cell_type": "code",
   "execution_count": null,
   "id": "bf30235d-8c4b-48a8-8793-fd8018fd7840",
   "metadata": {},
   "outputs": [],
   "source": [
    "target = chroma_snip\n",
    "\n",
    "nReps = []\n",
    "new_target = None\n",
    "last_target = None\n",
    "\n",
    "optEl = []\n",
    "\n",
    "nReps.append(1)\n",
    "for frame in range(target.shape[1]):\n",
    "    # first frame\n",
    "    if frame == 0:\n",
    "        new_target = target[:,frame][:,None]\n",
    "        last_target = target[:,frame][:,None]\n",
    "        \n",
    "        optEl.append([0,0])\n",
    "\n",
    "        continue   \n",
    "    # check if new label\n",
    "    if not np.array_equal(target[:,frame][:,None], last_target):\n",
    "        last_target = target[:,frame][:,None]\n",
    "        new_target = np.concatenate((new_target,last_target),1)\n",
    "        nReps.append(1)\n",
    "\n",
    "        optEl.append([optEl[-1][0]+1, optEl[-1][1] + 1])\n",
    "\n",
    "    else:\n",
    "        nReps[-1] += 1\n",
    "        optEl.append([optEl[-1][0]+1, optEl[-1][1]])\n",
    "        \n",
    "opt_wp = np.array(optEl)"
   ]
  },
  {
   "cell_type": "code",
   "execution_count": 8,
   "id": "37996053-a5a4-4673-8588-cef13f3d07c3",
   "metadata": {},
   "outputs": [],
   "source": [
    "plot_loader = ParallelHCQTLoader(fileList=[hcqtFile],\n",
    "          #segments_per_file=1,\n",
    "          target_indices=[frame_start],\n",
    "                                 #stride=1000,\n",
    "          #avg_frames_per_segment=100,\n",
    "          max_workers=1, \n",
    "          batch_size=1,\n",
    "          numContextFrames=nFrames+74,\n",
    "          verbose=False,\n",
    "          shuffle=False,\n",
    "          jointContextLoading=False,\n",
    "          data_label=\"hcqt\",\n",
    "          target_label=\"chroma\",\n",
    "          cycle=False,\n",
    "          num_targets=nFrames,\n",
    "          weak_labels=True,\n",
    "          expand_weak_labels=False)\n",
    "\n",
    "plot_loader_strong = ParallelHCQTLoader(fileList=[hcqtFile],\n",
    "          #segments_per_file=1,\n",
    "          target_indices=[frame_start],\n",
    "                                 #stride=1000,\n",
    "          #avg_frames_per_segment=100,\n",
    "          max_workers=1, \n",
    "          batch_size=1,\n",
    "          numContextFrames=nFrames+74,\n",
    "          verbose=False,\n",
    "          shuffle=False,\n",
    "          jointContextLoading=False,\n",
    "          data_label=\"hcqt\",\n",
    "          target_label=\"chroma\",\n",
    "          cycle=False,\n",
    "          num_targets=nFrames,\n",
    "          weak_labels=False,\n",
    "          expand_weak_labels=False)\n",
    "\n",
    "plot_loader_unfold = ParallelHCQTLoader(fileList=[hcqtFile],\n",
    "          #segments_per_file=1,\n",
    "          target_indices=[frame_start],\n",
    "                                 #stride=1000,\n",
    "          #avg_frames_per_segment=100,\n",
    "          max_workers=1, \n",
    "          batch_size=1,\n",
    "          numContextFrames=nFrames+74,\n",
    "          verbose=False,\n",
    "          shuffle=False,\n",
    "          jointContextLoading=False,\n",
    "          data_label=\"hcqt\",\n",
    "          target_label=\"chroma\",\n",
    "          cycle=False,\n",
    "          num_targets=nFrames,\n",
    "          weak_labels=True,\n",
    "          expand_weak_labels=True)"
   ]
  },
  {
   "cell_type": "code",
   "execution_count": 9,
   "id": "5eb2754d-d59b-4b77-9dcb-e381c36a0295",
   "metadata": {},
   "outputs": [],
   "source": [
    "for (x_weak,y_weak) in plot_loader:\n",
    "    break\n",
    "    \n",
    "for (x_ref,y_ref) in plot_loader_strong:\n",
    "    break\n",
    "    \n",
    "for (x_unfold,y_unfold) in plot_loader_unfold:\n",
    "    break"
   ]
  },
  {
   "cell_type": "code",
   "execution_count": 10,
   "id": "b1e0f143-4aaf-4fe6-ae5f-a83b667ca2c1",
   "metadata": {},
   "outputs": [],
   "source": [
    "def get_opt_warping_path_stretched(short_len, stretched_len, warping_path_short):\n",
    "    opt_warping_path_stretched = []\n",
    "    stretched_indices = np.linspace(0, short_len, stretched_len, endpoint=False).astype(int)\n",
    "\n",
    "    #warping_path_short = opt_warping_path_list[1]\n",
    "\n",
    "    curr_stretched_ind = 0\n",
    "    short_ind_prev = warping_path_short[0]\n",
    "    for i, short_ind in enumerate(warping_path_short):\n",
    "        if short_ind_prev != short_ind:\n",
    "            curr_stretched_ind += n_reps\n",
    "\n",
    "        n_reps = np.sum(stretched_indices==short_ind)\n",
    "\n",
    "        for j in range(n_reps):\n",
    "            opt_warping_path_stretched.append([i, curr_stretched_ind + j])\n",
    "\n",
    "        short_ind_prev = short_ind\n",
    "        #curr_stretched_ind += n_reps\n",
    "\n",
    "    return np.stack(opt_warping_path_stretched, axis=1)"
   ]
  },
  {
   "cell_type": "code",
   "execution_count": 11,
   "id": "3f9a72ad-15e8-458b-9297-c318213d1e18",
   "metadata": {},
   "outputs": [],
   "source": [
    "opt_wp_stretched = get_opt_warping_path_stretched(short_len=y_weak.shape[2], stretched_len=nFrames, warping_path_short=opt_wp[:,1])"
   ]
  },
  {
   "cell_type": "code",
   "execution_count": 12,
   "id": "96e83ac2-1831-49f0-95ac-c2197704f61c",
   "metadata": {},
   "outputs": [
    {
     "data": {
      "image/png": "[encoded data removed]",
      "text/plain": [
       "<Figure size 640x480 with 1 Axes>"
      ]
     },
     "metadata": {},
     "output_type": "display_data"
    }
   ],
   "source": [
    "plt.figure()\n",
    "plt.scatter(opt_wp_stretched[0,:], opt_wp_stretched[1,:], color='lime', s=10)#\n",
    "plt.show()"
   ]
  },
  {
   "cell_type": "code",
   "execution_count": 13,
   "id": "c05ea674-8383-49c5-94da-f4d95be75fa9",
   "metadata": {},
   "outputs": [],
   "source": [
    "plot_setups=[{   'gamma': 0.1,\n",
    "                 'gamma_scheduler':False,\n",
    "                 'prior_scheduler':False,\n",
    "                 'label': 'const. gamma 0.1',\n",
    "                 'save_name': 'baseline_constGamma_gamma01',\n",
    "                 'uniqueTargets':True},\n",
    "                \n",
    "                {'gamma': 10.0,\n",
    "                 'gamma_scheduler':False,\n",
    "                 'prior_scheduler':False,\n",
    "                    'label': 'const. gamma 10',\n",
    "                    'save_name': 'baseline_constGamma_gamma10',\n",
    "                    'uniqueTargets':True},\n",
    "                \n",
    "                {'gamma': 10.0,\n",
    "                 'gamma_scheduler':True,\n",
    "                 'prior_scheduler':False,\n",
    "                    'label': 'gamma scheduling',\n",
    "                    'save_name': 'gammaScheduling',\n",
    "                    'uniqueTargets':True},\n",
    "              \n",
    "            {    'gamma': 0.1,\n",
    "                 'gamma_scheduler':False,\n",
    "                 'prior_scheduler':True,\n",
    "                 'label': 'diag. prior 13',\n",
    "                 'save_name': 'diagPrior',\n",
    "                 'uniqueTargets':True},\n",
    "            \n",
    "             {   'gamma': 0.1,\n",
    "                 'gamma_scheduler':False,\n",
    "                 'prior_scheduler':False,\n",
    "                 'label': 'W2, gamma 0.1',\n",
    "                 'save_name': 'unfolding',\n",
    "                 'uniqueTargets':False},\n",
    "            ]\n",
    "\n",
    "plot_epochs=[1,25]"
   ]
  },
  {
   "cell_type": "code",
   "execution_count": 14,
   "id": "da016bc3-c931-41e2-ae7f-98f4a94d9334",
   "metadata": {},
   "outputs": [],
   "source": [
    "# Set model parameters\n",
    "n_chan_input=5               # C\n",
    "n_chan_layers=[20,20,10,1]   # N0, N1, N2, N3\n",
    "n_bins_in=216                # P * B = 72 * 3\n",
    "n_bins_out=12                # chromas\n",
    "a_lrelu=0.3\n",
    "p_dropout=0.2\n"
   ]
  },
  {
   "cell_type": "code",
   "execution_count": 15,
   "id": "8d9eeb97-3141-4586-ba42-fd57d05e4f54",
   "metadata": {},
   "outputs": [],
   "source": [
    "diagPrior_schedule={\"initial_weight\": 3,\n",
    "                \"final_weight\": 0,\n",
    "                \"steps_const\" : 5,\n",
    "                \"steps_decay\": 5,\n",
    "                \"nu\": 1e3}\n",
    "\n",
    "gamma_schedule={\"initial_gamma\":10,\n",
    "                \"steps_const\": 10,\n",
    "                \"steps_decay\": 10,\n",
    "                \"final_gamma\":.1}\n",
    "\n",
    "def get_gamma_from_schedule(schedule, epoch):\n",
    "    if epoch < schedule[\"steps_const\"]:\n",
    "        return schedule[\"initial_gamma\"]\n",
    "    elif (epoch >= schedule[\"steps_const\"]) and (epoch < schedule[\"steps_const\"]+schedule[\"steps_decay\"]):\n",
    "        return schedule[\"initial_gamma\"] + (schedule[\"final_gamma\"] - schedule[\"initial_gamma\"])/schedule[\"steps_decay\"] * (epoch-schedule[\"steps_const\"])\n",
    "    else:\n",
    "        return schedule[\"final_gamma\"]\n",
    "\n",
    "def get_priorWeight_from_schedule(schedule, epoch):\n",
    "\n",
    "    if epoch < schedule[\"steps_const\"]:\n",
    "        return schedule[\"initial_weight\"]\n",
    "    elif (epoch >= schedule[\"steps_const\"]) and (epoch < schedule[\"steps_const\"]+schedule[\"steps_decay\"]):\n",
    "        return schedule[\"initial_weight\"] + (schedule[\"final_weight\"] - schedule[\"initial_weight\"])/schedule[\"steps_decay\"] * (epoch-schedule[\"steps_const\"])\n",
    "    else:\n",
    "        return schedule[\"final_weight\"]"
   ]
  },
  {
   "cell_type": "code",
   "execution_count": 16,
   "id": "4c441329-c694-42c1-8055-b92a849b31cd",
   "metadata": {},
   "outputs": [],
   "source": [
    "def get_diag_prior(N, M, nu=1e4):\n",
    "    diagPath = np.linspace(0, M, N, endpoint=False).astype(int)\n",
    "\n",
    "    frame_durations = np.zeros(M)\n",
    "    for w1 in diagPath:\n",
    "        frame_durations[w1]+=1\n",
    "    D_prior = np.zeros((M, N))\n",
    "    curr_fr_start = 0\n",
    "    curr_fr_end = 0\n",
    "    for fr, dur in enumerate(frame_durations.astype(int)):\n",
    "        curr_fr_end = curr_fr_start + dur\n",
    "        D_prior[fr, curr_fr_start : curr_fr_end] = 1\n",
    "        #slope_start = max([0, curr_fr_start - dfr])     \n",
    "        #slope_end = min([nFrames, curr_fr_end + dfr])       \n",
    "        #opt_warping_path_smooth[fr, slope_start:curr_fr_start] = np.arange(curr_fr_start - slope_start)/(curr_fr_start - slope_start)\n",
    "        #opt_warping_path_smooth[fr, curr_fr_end : slope_end] = np.arange(slope_end - curr_fr_end)[::-1]/(slope_end - curr_fr_end)\n",
    "\n",
    "        D_prior[fr, :curr_fr_start] = np.exp(- (np.arange(curr_fr_start)-curr_fr_start)**2 / (2*nu))\n",
    "        D_prior[fr, curr_fr_end:] = np.exp(- (np.arange(curr_fr_end, N)-curr_fr_end)**2 / (2*nu))\n",
    "        curr_fr_start = curr_fr_end\n",
    "    return 1-D_prior.transpose()\n",
    "\n",
    "D_prior = torch.Tensor(get_diag_prior(nFrames, y_weak.shape[2], nu=diagPrior_schedule['nu'])[None,:]).to(device_test)"
   ]
  },
  {
   "cell_type": "code",
   "execution_count": 17,
   "id": "f44f8705-50c5-4f92-b8bf-544b6f8fcb76",
   "metadata": {},
   "outputs": [],
   "source": [
    "save_dir = \"../Models/Checkpoints\""
   ]
  },
  {
   "cell_type": "code",
   "execution_count": null,
   "id": "84179fc5-393c-4982-aa99-065b43891821",
   "metadata": {},
   "outputs": [],
   "source": [
    "for setup in plot_setups:\n",
    "    \n",
    "    save_name = setup[\"save_name\"]\n",
    "    \n",
    "    fig, ax = plt.subplots(2, 1 ,figsize=(5,9))\n",
    "    \n",
    "    for iEpoch, load_epoch in enumerate(plot_epochs):\n",
    "\n",
    "        if setup['gamma_scheduler']:\n",
    "            gamma  =get_gamma_from_schedule(gamma_schedule, load_epoch-1)\n",
    "        else:\n",
    "            gamma = setup['gamma']            \n",
    "        \n",
    "        if setup['prior_scheduler']:\n",
    "            prior_weight = get_priorWeight_from_schedule(diagPrior_schedule, load_epoch-1)\n",
    "        else:\n",
    "            prior_weight = 0\n",
    "\n",
    "        crit = SoftDTW(use_cuda=True, gamma=gamma, normalize=False, sharp=False, sharp_weight_by_avg_alignment_sum=False,\n",
    "                      dist_func=None)\n",
    "\n",
    "        model_name = \"Chroma_Estimation_weakTargets_%s_epoch%i.pt\"%(save_name, load_epoch)\n",
    "\n",
    "        model = basic_cnn_segm_sigmoid(n_chan_input, n_chan_layers, n_bins_in, n_bins_out, a_lrelu, p_dropout)\n",
    "        model.load_state_dict(torch.load(os.path.join(save_dir, model_name)))\n",
    "\n",
    "        model.to(device_test)\n",
    "        model.eval()\n",
    "\n",
    "        model.zero_grad()\n",
    "        y_pred = model(x_weak.to(device_test))\n",
    "        \n",
    "        if setup['uniqueTargets']:\n",
    "            loss_ = crit(y_pred, y_weak.to(device_test), D_prior=D_prior*prior_weight)\n",
    "            loss_.backward()\n",
    "            E_cuda = crit.dtw_class.e_matrix[0]\n",
    "            E = E_cuda.cpu().detach().numpy().transpose()\n",
    "            ax[iEpoch].imshow(E, origin='lower', aspect='auto', interpolation='none', cmap='gray_r', clim=[0,1])\n",
    "            ax[iEpoch].plot(opt_wp[:,0], opt_wp[:,1], color='lime', linewidth=2, alpha=.7)\n",
    "        else:\n",
    "            loss_ = crit(y_pred, y_unfold.to(device_test), D_prior=0)\n",
    "            loss_.backward()\n",
    "            E_cuda = crit.dtw_class.e_matrix[0]\n",
    "            E = E_cuda.cpu().detach().numpy().transpose()\n",
    "            \n",
    "            ax[iEpoch].imshow(convolve2d(E, np.ones((5,5)), mode='same'), origin='lower', aspect='auto', interpolation='none', cmap='gray_r', clim=[0,1])\n",
    "            ax[iEpoch].scatter(opt_wp_stretched[0,:], opt_wp_stretched[1,:], color='lime', s=.05, alpha=.2, marker='.')#\n",
    "\n",
    "        ax[iEpoch].set_title(\"Epoch %i\"%(load_epoch), fontsize=10)\n",
    "        \n",
    "        ax[iEpoch].set_xlabel(\"Predicted sequence (frames)\", fontsize=10)\n",
    "        ax[iEpoch].set_ylabel(\"Target sequence (frames)\", fontsize=10)\n",
    "        \n",
    "    fig.suptitle(setup['label'])\n",
    "    plt.show()"
   ]
  }
 ],
 "metadata": {
  "kernelspec": {
   "display_name": "Python 3 (ipykernel)",
   "language": "python",
   "name": "python3"
  },
  "language_info": {
   "codemirror_mode": {
    "name": "ipython",
    "version": 3
   },
   "file_extension": ".py",
   "mimetype": "text/x-python",
   "name": "python",
   "nbconvert_exporter": "python",
   "pygments_lexer": "ipython3",
   "version": "3.8.16"
  }
 },
 "nbformat": 4,
 "nbformat_minor": 5
}
