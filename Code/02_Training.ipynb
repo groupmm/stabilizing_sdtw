{
 "cells": [
  {
   "cell_type": "markdown",
   "id": "7189d4a0-28c7-4cb9-9c9b-ebc8d577a368",
   "metadata": {},
   "source": [
    "# Training deep chroma estimator with SDTW loss\n",
    "\n",
    "Johannes Zeitler (johannes.zeitler@audiolabs-erlangen.de), 2023\n",
    "\n",
    "Code base for ISMIR 2023 paper "
   ]
  },
  {
   "cell_type": "markdown",
   "id": "6725605d-faae-43c4-b519-219dc6c3cf1a",
   "metadata": {},
   "source": [
    "## 0. Setup & Parameters"
   ]
  },
  {
   "cell_type": "code",
   "execution_count": 1,
   "id": "4515f958-ebc1-486a-8b9c-00c825d7ffa0",
   "metadata": {},
   "outputs": [],
   "source": [
    "import os\n",
    "import sys\n",
    "from datetime import datetime\n",
    "\n",
    "import matplotlib.pyplot as plt\n",
    "import numpy as np\n",
    "from time import time, gmtime, strftime\n",
    "import torch \n",
    "import torch.nn.functional as F\n",
    "from torchinfo import summary\n",
    "\n",
    "from libdl.nn_models import *\n",
    "from libdl.metrics import early_stopping\n",
    "from libdl.training import Trainer\n",
    "from libdl.data_loaders.parallelDataset import ParallelHCQTLoader \n",
    "from libdl.nn_losses.soft_dtw_cuda import SoftDTW\n",
    "\n",
    "import libfmp.c5"
   ]
  },
  {
   "cell_type": "markdown",
   "id": "4646e29e-de6f-4eba-b2df-40732c49f7dd",
   "metadata": {},
   "source": [
    "### Set devices to use for training / testing"
   ]
  },
  {
   "cell_type": "code",
   "execution_count": 2,
   "id": "c344ecb3-f0c8-4eab-aaa5-2453891d1de2",
   "metadata": {},
   "outputs": [],
   "source": [
    "#device_train = 'cpu'\n",
    "device_train = 'cuda:0'\n",
    "\n",
    "#device_test = 'cpu'\n",
    "device_test = 'cuda:0'"
   ]
  },
  {
   "cell_type": "markdown",
   "id": "e7072020-db0e-4267-b1ab-1c2f0d7284cb",
   "metadata": {},
   "source": [
    "### General Parameters"
   ]
  },
  {
   "cell_type": "code",
   "execution_count": 3,
   "id": "62112484-79e2-4ddc-a150-e2efdab5c9bf",
   "metadata": {
    "tags": []
   },
   "outputs": [],
   "source": [
    "batch_size = 32\n",
    "num_targets = 500\n",
    "gamma = 0.1\n",
    "epochs = 3\n",
    "\n",
    "# these 3 parameters are never modified\n",
    "normalize = False\n",
    "sharp = False\n",
    "sharp_weight_by_avg_alignment_sum = False \n",
    "\n",
    "\n",
    "model_log_name = \"SDTW_standard\"\n",
    "checkpoint_path = \"../Logs/\""
   ]
  },
  {
   "cell_type": "code",
   "execution_count": 4,
   "id": "e589b32e-61ee-460d-8298-4ed98f7a909a",
   "metadata": {},
   "outputs": [
    {
     "name": "stdout",
     "output_type": "stream",
     "text": [
      "batch_size: 32\n",
      "num_targets: 500\n",
      "gamma: 0.1\n",
      "normalize: False\n",
      "sharp: False\n",
      "sharp_weight_by_avg_alignment_sum: False\n",
      "model_log_name: SDTW_standard\n",
      "checkpoint_path: ../Logs/\n"
     ]
    }
   ],
   "source": [
    "#For reviewing the results - print the used parameters\n",
    "print(f'batch_size: {batch_size}')\n",
    "print(f'num_targets: {num_targets}')\n",
    "print(f'gamma: {gamma}')\n",
    "print(f'normalize: {normalize}')\n",
    "print(f'sharp: {sharp}')\n",
    "print(f'sharp_weight_by_avg_alignment_sum: {sharp_weight_by_avg_alignment_sum}')\n",
    "\n",
    "print(f'model_log_name: {model_log_name}')\n",
    "print(f'checkpoint_path: {checkpoint_path}')"
   ]
  },
  {
   "cell_type": "markdown",
   "id": "dca4e24d-a7f5-4250-acc1-e32bdb75da59",
   "metadata": {},
   "source": [
    "### Set directory where to load data and save trained models"
   ]
  },
  {
   "cell_type": "code",
   "execution_count": 5,
   "id": "d97dc237-8010-458f-8a9f-3f344f587b69",
   "metadata": {},
   "outputs": [],
   "source": [
    "data_path = \"../Data/Schubert_Winterreise_hcqt\"\n",
    "\n",
    "model_log_dir = os.path.join(checkpoint_path, model_log_name)\n",
    "model_ckp_dir = os.path.join(model_log_dir, 'checkpoints')\n",
    "\n",
    "os.makedirs(model_log_dir, exist_ok=True)\n",
    "os.makedirs(model_ckp_dir, exist_ok=True)"
   ]
  },
  {
   "cell_type": "markdown",
   "id": "02ddecfd-57be-4bed-ae67-145234b73a9e",
   "metadata": {},
   "source": [
    "### MSE cost function"
   ]
  },
  {
   "cell_type": "code",
   "execution_count": 6,
   "id": "826ea37c-37f9-4892-9bc3-b6bffb814523",
   "metadata": {},
   "outputs": [],
   "source": [
    "def euclidean_dist_func(x, y):\n",
    "    n = x.size(1)\n",
    "    m = y.size(1)\n",
    "    d = x.size(2)\n",
    "    x = x.unsqueeze(2).expand(-1, n, m, d)\n",
    "    y = y.unsqueeze(1).expand(-1, n, m, d)\n",
    "    return torch.pow(x - y, 2).sum(3)"
   ]
  },
  {
   "cell_type": "markdown",
   "id": "e6f54d3e-01d9-40ae-9765-d8b0e96d6a2f",
   "metadata": {},
   "source": [
    "## 1. Training Strategy\n",
    "\n",
    "Choose one of the following 5 training strategies"
   ]
  },
  {
   "cell_type": "code",
   "execution_count": 7,
   "id": "eb52e420-f936-4398-b72c-a3321a740350",
   "metadata": {
    "tags": []
   },
   "outputs": [],
   "source": [
    "#strategy = \"strongTargets\"\n",
    "strategy = \"standardSDTW\"\n",
    "#strategy = \"hypScheduling\"\n",
    "#strategy = \"diagPrior\"\n",
    "#strategy = \"unfolding\""
   ]
  },
  {
   "cell_type": "code",
   "execution_count": 8,
   "id": "92e509e8-4c46-4a19-8982-e3ef3038bf04",
   "metadata": {
    "tags": []
   },
   "outputs": [],
   "source": [
    "# Strong Targets\n",
    "if strategy == \"strongTargets\":    \n",
    "    weak_labels = False # do not remove all target vector repetitions\n",
    "    expand_weak_labels = False # no sequence unfolding\n",
    "    plot_e_matrix = False\n",
    "    crit = torch.nn.MSELoss()\n",
    "    gamma_schedule=None\n",
    "    D_prior_params=None\n",
    "    split_loss_weakLabels = False\n",
    "    lr_scheduler_start = 0\n",
    "\n",
    "# Standard SDTW\n",
    "elif strategy == \"standardSDTW\":\n",
    "    weak_labels = True # remove all target vector repetitions\n",
    "    expand_weak_labels = False # no sequence unfolding\n",
    "    plot_e_matrix=True\n",
    "    crit = SoftDTW(use_cuda=True, gamma=gamma, dist_func=euclidean_dist_func, normalize=normalize, sharp=sharp, sharp_weight_by_avg_alignment_sum=sharp_weight_by_avg_alignment_sum)\n",
    "    gamma_schedule=None\n",
    "    D_prior_params=None\n",
    "    split_loss_weakLabels = True\n",
    "    lr_scheduler_start = 0\n",
    "\n",
    "# Strategy 1: Hyperparameter Scheduling\n",
    "elif strategy == \"hypScheduling\":\n",
    "    weak_labels = True # remove all target vector repetitions\n",
    "    expand_weak_labels = False # no sequence unfolding\n",
    "    plot_e_matrix=True\n",
    "    crit = SoftDTW(use_cuda=True, gamma=gamma, dist_func=euclidean_dist_func, normalize=normalize, sharp=sharp, sharp_weight_by_avg_alignment_sum=sharp_weight_by_avg_alignment_sum)\n",
    "    gamma_schedule={\"initial_gamma\":10.,\n",
    "                    \"steps_const\": 10,\n",
    "                    \"steps_decay\": 10,\n",
    "                    \"final_gamma\":0.1}\n",
    "    D_prior_params=None\n",
    "    split_loss_weakLabels = True\n",
    "    lr_scheduler_start = 21\n",
    "\n",
    "# Strategy 2: Diagonal Prior\n",
    "elif strategy == \"diagPrior\":\n",
    "    weak_labels = True # remove all target vector repetitions\n",
    "    expand_weak_labels = False # no sequence unfolding\n",
    "    plot_e_matrix=True\n",
    "    crit = SoftDTW(use_cuda=True, gamma=gamma, dist_func=euclidean_dist_func, normalize=normalize, sharp=sharp, sharp_weight_by_avg_alignment_sum=sharp_weight_by_avg_alignment_sum)\n",
    "    gamma_schedule=None\n",
    "    D_prior_params={\"initial_weight\": 3,\n",
    "                    \"final_weight\": 0,\n",
    "                    \"steps_const\" : 5,\n",
    "                    \"steps_decay\": 5,\n",
    "                    \"nu\": 1e3}  \n",
    "    split_loss_weakLabels = True\n",
    "    lr_scheduler_start = 0\n",
    "\n",
    "# Strategy 3: Sequence Unfolding\n",
    "elif strategy == \"unfolding\":\n",
    "    weak_labels = True #  remove all target vector repetitions\n",
    "    expand_weak_labels = True # strategy: sequence unfolding\n",
    "    plot_e_matrix=True\n",
    "    crit = SoftDTW(use_cuda=True, gamma=gamma, dist_func=euclidean_dist_func, normalize=normalize, sharp=sharp, sharp_weight_by_avg_alignment_sum=sharp_weight_by_avg_alignment_sum)\n",
    "    gamma_schedule=None\n",
    "    D_prior_params=None\n",
    "    split_loss_weakLabels = False\n",
    "    lr_scheduler_start = 0\n",
    "    \n",
    "else:\n",
    "    print(\"!!! Strategy not found !!!\")"
   ]
  },
  {
   "cell_type": "markdown",
   "id": "4052a87b-7f66-4ca6-a485-73fbc6e9439e",
   "metadata": {},
   "source": [
    "##  2. Create model"
   ]
  },
  {
   "cell_type": "code",
   "execution_count": 8,
   "id": "249ffe76-ddae-4d3d-a9df-a782ddbca172",
   "metadata": {},
   "outputs": [
    {
     "data": {
      "text/plain": [
       "==========================================================================================\n",
       "Layer (type:depth-idx)                   Output Shape              Param #\n",
       "==========================================================================================\n",
       "basic_cnn_segm_sigmoid                   [50, 1, 500, 12]          --\n",
       "├─LayerNorm: 1-1                         [50, 574, 5, 216]         2,160\n",
       "├─Sequential: 1-2                        [50, 20, 574, 216]        --\n",
       "│    └─Conv2d: 2-1                       [50, 20, 574, 216]        22,520\n",
       "│    └─LeakyReLU: 2-2                    [50, 20, 574, 216]        --\n",
       "│    └─MaxPool2d: 2-3                    [50, 20, 574, 216]        --\n",
       "│    └─Dropout: 2-4                      [50, 20, 574, 216]        --\n",
       "├─Sequential: 1-3                        [50, 20, 574, 72]         --\n",
       "│    └─Conv2d: 2-5                       [50, 20, 574, 72]         3,620\n",
       "│    └─LeakyReLU: 2-6                    [50, 20, 574, 72]         --\n",
       "│    └─MaxPool2d: 2-7                    [50, 20, 574, 72]         --\n",
       "│    └─Dropout: 2-8                      [50, 20, 574, 72]         --\n",
       "├─Sequential: 1-4                        [50, 10, 500, 72]         --\n",
       "│    └─Conv2d: 2-9                       [50, 10, 500, 72]         15,010\n",
       "│    └─LeakyReLU: 2-10                   [50, 10, 500, 72]         --\n",
       "│    └─Dropout: 2-11                     [50, 10, 500, 72]         --\n",
       "├─Sequential: 1-5                        [50, 1, 500, 12]          --\n",
       "│    └─Conv2d: 2-12                      [50, 1, 500, 72]          11\n",
       "│    └─LeakyReLU: 2-13                   [50, 1, 500, 72]          --\n",
       "│    └─Dropout: 2-14                     [50, 1, 500, 72]          --\n",
       "│    └─Conv2d: 2-15                      [50, 1, 500, 12]          62\n",
       "│    └─Sigmoid: 2-16                     [50, 1, 500, 12]          --\n",
       "==========================================================================================\n",
       "Total params: 43,383\n",
       "Trainable params: 43,383\n",
       "Non-trainable params: 0\n",
       "Total mult-adds (G): 174.14\n",
       "==========================================================================================\n",
       "Input size (MB): 123.98\n",
       "Forward/backward pass size (MB): 1731.26\n",
       "Params size (MB): 0.17\n",
       "Estimated Total Size (MB): 1855.42\n",
       "=========================================================================================="
      ]
     },
     "execution_count": 8,
     "metadata": {},
     "output_type": "execute_result"
    }
   ],
   "source": [
    "# Set model parameters\n",
    "n_chan_input=5               # C\n",
    "n_chan_layers=[20,20,10,1]   # N0, N1, N2, N3\n",
    "n_bins_in=216                # P * B = 72 * 3\n",
    "n_bins_out=12                # chromas\n",
    "a_lrelu=0.3\n",
    "p_dropout=0.2\n",
    "\n",
    "model = basic_cnn_segm_sigmoid(n_chan_input, n_chan_layers, n_bins_in, n_bins_out, a_lrelu, p_dropout)\n",
    "\n",
    "summary(model, input_size=(50, 5, 574, 216))       # batch x C x L x P*B"
   ]
  },
  {
   "cell_type": "markdown",
   "id": "4e651a88-1fbf-451c-9bbf-63aa4f4f6070",
   "metadata": {},
   "source": [
    "## 3. Optimizer, learning rate scheduler, early stopping, loss function"
   ]
  },
  {
   "cell_type": "code",
   "execution_count": 9,
   "id": "e88be4b0-c1db-4968-9201-657ecdc2ffa7",
   "metadata": {},
   "outputs": [],
   "source": [
    "if weak_labels:\n",
    "    if expand_weak_labels:\n",
    "        expand_type=\"unfold\"\n",
    "    else:\n",
    "        expand_type=\"unique\"\n",
    "else:\n",
    "    expand_type=\"strong\""
   ]
  },
  {
   "cell_type": "code",
   "execution_count": 10,
   "id": "741030be-bbc9-4d8c-b4e7-a3bb947d426a",
   "metadata": {},
   "outputs": [],
   "source": [
    "path_trainer_ckp = model_ckp_dir\n",
    "\n",
    "only_save_best = False\n",
    "\n",
    "# optimizer parameters\n",
    "op = {'name': 'Adam',\n",
    "      'initial_lr': 0.001}\n",
    "\n",
    "# learning rate scheduler parameters \n",
    "sp = {'use_scheduler': True,\n",
    "      'name': 'ReduceLROnPlateau',\n",
    "      'mode': 'min',\n",
    "      'factor': 0.5,\n",
    "      'patience': 4,\n",
    "      'threshold': 1e-4,                 \n",
    "      'threshold_mode': 'rel',\n",
    "      'cooldown': 0,\n",
    "      'min_lr': 1e-6,\n",
    "      'eps': 1e-08,\n",
    "      'verbose': False\n",
    "      }\n",
    "\n",
    "# early stopping parameters\n",
    "ep = {'use_early_stopping': True,\n",
    "      'mode': 'min',\n",
    "      'min_delta': 1e-5,\n",
    "      'patience': 12,\n",
    "      'percentage': False\n",
    "      }\n",
    "\n",
    "\n",
    "ckp_prefix = 'nTargets%i_batchSize%i_lr%s_%s_normalize%s'%(num_targets,\n",
    "                                                     batch_size,\n",
    "                                                     str(op[\"initial_lr\"]).replace(\".\", \"\"),\n",
    "                                                     expand_type,\n",
    "                                                     normalize)"
   ]
  },
  {
   "cell_type": "code",
   "execution_count": 11,
   "id": "92bbe723-c58a-4dee-9035-ed86df5e268a",
   "metadata": {},
   "outputs": [],
   "source": [
    "logfile = os.path.join(model_log_dir, \"modelInfo_\"+ckp_prefix+\".txt\")\n",
    "logfile_train = os.path.join(model_log_dir, \"trainLog_\"+ckp_prefix+\".txt\")"
   ]
  },
  {
   "cell_type": "code",
   "execution_count": 12,
   "id": "3ca935d6-842e-4676-8b5b-70a287d94e9e",
   "metadata": {},
   "outputs": [],
   "source": [
    "with open(logfile, \"a\") as lf:\n",
    "    lf.write(f\"{datetime.now()}\\n\")\n",
    "    lf.write(\"#general params\\n\")\n",
    "    lf.write(f'batch_size: {batch_size}\\n')\n",
    "    lf.write(f'num_targets: {num_targets}\\n')\n",
    "    lf.write(f'weak_labels: {weak_labels}\\n')\n",
    "    lf.write(f'expand_weak_labels: {expand_weak_labels}\\n')\n",
    "    lf.write(f'gamma: {gamma}\\n')\n",
    "    lf.write(f'normalize: {normalize}\\n')\n",
    "    lf.write(f'sharp: {sharp}\\n')\n",
    "    lf.write(f'sharp_weight_by_avg_alignment_sum: {sharp_weight_by_avg_alignment_sum}\\n')\n",
    "    \n",
    "    lf.write(\"#op\\n\")\n",
    "    for key in op.keys():\n",
    "        lf.write(f\"{key}: {op[key]}\\n\")\n",
    "        \n",
    "    lf.write(\"#sp\\n\")\n",
    "    for key in sp.keys():\n",
    "        lf.write(f\"{key}: {sp[key]}\\n\")\n",
    "        \n",
    "    lf.write(\"#ep\\n\")\n",
    "    for key in ep.keys():\n",
    "        lf.write(f\"{key}: {ep[key]}\\n\")\n"
   ]
  },
  {
   "cell_type": "code",
   "execution_count": 13,
   "id": "cde266ec-27df-401c-ba51-0ec4ecf4b388",
   "metadata": {},
   "outputs": [],
   "source": [
    "optimizer = torch.optim.Adam(model.parameters(), lr=op['initial_lr'])\n",
    "\n",
    "\n",
    "scheduler = torch.optim.lr_scheduler.ReduceLROnPlateau(optimizer, mode=sp['mode'], \\\n",
    "        factor=sp['factor'], patience=sp['patience'], threshold=sp['threshold'], threshold_mode=sp['threshold_mode'], \\\n",
    "        cooldown=sp['cooldown'], eps=sp['eps'], min_lr=sp['min_lr'], verbose=sp['verbose'])\n",
    "\n",
    "es = early_stopping(mode=ep['mode'], min_delta=ep['min_delta'], patience=ep['patience'], percentage=ep['percentage'])"
   ]
  },
  {
   "cell_type": "markdown",
   "id": "9064f325-232b-4471-900d-02d7020b7abb",
   "metadata": {},
   "source": [
    "## 4. Dataset\n",
    "\n",
    "... modify this if you only have the publicly available versions (HU33, SC06)"
   ]
  },
  {
   "cell_type": "code",
   "execution_count": 14,
   "id": "94f1d337-d841-4c17-9ab3-8e2b7b37ec7e",
   "metadata": {},
   "outputs": [],
   "source": [
    "train_versions = ['AL98', 'FI55', 'FI80', 'OL06', 'QU98']\n",
    "val_versions = ['FI66', 'TR99']\n",
    "test_versions = ['HU33', 'SC06']"
   ]
  },
  {
   "cell_type": "code",
   "execution_count": 15,
   "id": "5ec2aabf-6601-444c-bcdc-92ef2ee881be",
   "metadata": {},
   "outputs": [],
   "source": [
    "fileList_train =  []\n",
    "fileList_test =  []\n",
    "fileList_val =  []\n",
    "\n",
    "\n",
    "# only add files specified by train_versions\n",
    "for f in os.listdir(data_path):\n",
    "    if '.h5' in f:\n",
    "        for version in train_versions:\n",
    "            if version in f:\n",
    "                fileList_train.append(os.path.join(data_path, f))\n",
    "        for version in test_versions:\n",
    "            if version in f:\n",
    "                fileList_test.append(os.path.join(data_path, f))\n",
    "        for version in val_versions:\n",
    "            if version in f:\n",
    "                fileList_val.append(os.path.join(data_path, f))\n",
    "                \n",
    "fileList_train.sort()\n",
    "fileList_test.sort()\n",
    "fileList_val.sort()"
   ]
  },
  {
   "cell_type": "markdown",
   "id": "492ac8d7-1be2-436f-8561-8ca4313d7750",
   "metadata": {},
   "source": [
    "### create Data loaders (parallel HCQT loaders from .h5 files)"
   ]
  },
  {
   "cell_type": "code",
   "execution_count": 16,
   "id": "3e253fe9-162c-49ee-9fda-14a42a44254c",
   "metadata": {},
   "outputs": [],
   "source": [
    "train_loader = ParallelHCQTLoader(fileList=fileList_train,\n",
    "          segments_per_file=20, # always choose 20 random segments per file\n",
    "          max_workers=8, \n",
    "          batch_size=batch_size,\n",
    "          numContextFrames=num_targets+74,\n",
    "          verbose=False,\n",
    "          shuffle=True,\n",
    "          jointContextLoading=False,\n",
    "          data_label=\"hcqt\",\n",
    "          target_label=\"chroma\",\n",
    "          cycle=False,\n",
    "          num_targets=num_targets,\n",
    "          weak_labels=weak_labels,\n",
    "          expand_weak_labels=expand_weak_labels)\n",
    "\n",
    "val_loader = ParallelHCQTLoader(fileList=fileList_val,\n",
    "          stride=200, # choose always the same segments from each file with a shift of 200\n",
    "          max_workers=8, \n",
    "          batch_size=batch_size,\n",
    "          numContextFrames=num_targets+74,\n",
    "          verbose=False,\n",
    "          shuffle=True,\n",
    "          jointContextLoading=False,\n",
    "          data_label=\"hcqt\",\n",
    "          target_label=\"chroma\",\n",
    "          cycle=False,\n",
    "          num_targets=num_targets,\n",
    "          weak_labels=weak_labels,\n",
    "          expand_weak_labels=expand_weak_labels)\n",
    "\n",
    "\n",
    "test_loader = ParallelHCQTLoader(fileList=fileList_test,\n",
    "          stride=100, # choose always the same segments from each file with a shift of 100\n",
    "          max_workers=8, \n",
    "          batch_size=batch_size,\n",
    "          numContextFrames=num_targets+74,\n",
    "          verbose=False,\n",
    "          shuffle=False,\n",
    "          jointContextLoading=False,\n",
    "          data_label=\"hcqt\",\n",
    "          target_label=\"chroma\",\n",
    "          cycle=False,\n",
    "          num_targets=num_targets,\n",
    "          weak_labels=weak_labels,\n",
    "          expand_weak_labels=expand_weak_labels)\n",
    "\n",
    "test_loader_strong = ParallelHCQTLoader(fileList=fileList_test,\n",
    "          stride=100, # choose always the same segments from each file with a shift of 100\n",
    "          max_workers=8, \n",
    "          batch_size=batch_size,\n",
    "          numContextFrames=num_targets+74,\n",
    "          verbose=False,\n",
    "          shuffle=False,\n",
    "          jointContextLoading=False,\n",
    "          data_label=\"hcqt\",\n",
    "          target_label=\"chroma\",\n",
    "          cycle=False,\n",
    "          num_targets=num_targets,\n",
    "          weak_labels=False,\n",
    "          expand_weak_labels=expand_weak_labels)"
   ]
  },
  {
   "cell_type": "markdown",
   "id": "360a2145-21d9-4476-b11d-8e743b8cd795",
   "metadata": {},
   "source": [
    "### dataloader for inspection of E-matrix"
   ]
  },
  {
   "cell_type": "code",
   "execution_count": 17,
   "id": "17858590-a97c-4a7f-9bc9-6a213db7db65",
   "metadata": {},
   "outputs": [],
   "source": [
    "plot_loader = ParallelHCQTLoader(fileList=fileList_val[:16], # choose 16 files from the validation set for plotting the E-matrix\n",
    "          target_indices=[2000], # always plot the same snippet\n",
    "          max_workers=16, \n",
    "          batch_size=16,\n",
    "          numContextFrames=num_targets+74,\n",
    "          verbose=False,\n",
    "          shuffle=False,\n",
    "          jointContextLoading=False,\n",
    "          data_label=\"hcqt\",\n",
    "          target_label=\"chroma\",\n",
    "          cycle=False,\n",
    "          num_targets=num_targets,\n",
    "          weak_labels=weak_labels,\n",
    "          expand_weak_labels=expand_weak_labels)\n",
    "\n",
    "\n",
    "plot_loader_strong = ParallelHCQTLoader(fileList=fileList_val[:16], # choose 16 files from the validation set for plotting the E-matrix\n",
    "          target_indices=[2000], # always plot the same snippet\n",
    "          max_workers=16, \n",
    "          batch_size=16,\n",
    "          numContextFrames=num_targets+74,\n",
    "          verbose=False,\n",
    "          shuffle=False,\n",
    "          jointContextLoading=False,\n",
    "          data_label=\"hcqt\",\n",
    "          target_label=\"chroma\",\n",
    "          cycle=False,\n",
    "          num_targets=num_targets,\n",
    "          weak_labels=False,\n",
    "          expand_weak_labels=expand_weak_labels)"
   ]
  },
  {
   "cell_type": "markdown",
   "id": "087e8a63-81a8-4f1e-8f80-a605fa6580ea",
   "metadata": {},
   "source": [
    "### generate samples to be displayed after each training epoch"
   ]
  },
  {
   "cell_type": "code",
   "execution_count": 18,
   "id": "b4b2b6c2-3f64-49cc-98a2-b165ed03e78f",
   "metadata": {},
   "outputs": [],
   "source": [
    "for (x,y), (_, y_strong) in zip(plot_loader, plot_loader_strong):\n",
    "    break\n",
    "            \n",
    "\n",
    "x = x.to(device_train)\n",
    "y = y.to(device_train)\n",
    "\n",
    "changes = (y[:, :, 1:, :] != y[:, :, :-1, :]).any(axis=3)\n",
    "lastChange = torch.sum(changes, axis=[1,2])\n",
    "\n",
    "opt_paths = []\n",
    "\n",
    "for b in range(y.shape[0]):\n",
    "    target = y_strong[b]\n",
    "\n",
    "    nReps = []\n",
    "    new_target = None\n",
    "    last_target = None\n",
    "\n",
    "    nReps.append(1)\n",
    "    for frame in range(target.shape[1]):\n",
    "        # first frame\n",
    "        if frame == 0:\n",
    "            new_target = target[:,frame,:]\n",
    "            last_target = target[:,frame,:]\n",
    "            continue   \n",
    "        # check if new label\n",
    "        if not np.array_equal(target[:,frame,:], last_target):\n",
    "            last_target = target[:,frame,:]\n",
    "            new_target = np.concatenate((new_target,last_target),0)\n",
    "            nReps.append(1)\n",
    "        else:\n",
    "            nReps[-1] += 1\n",
    "\n",
    "    plotx = []\n",
    "    ploty = [0]\n",
    "    for i, rep in enumerate(nReps):\n",
    "        plotx.append(i)\n",
    "        ploty.append(ploty[-1]+rep)    \n",
    "        plotx.append(i)\n",
    "        ploty.append(ploty[-1])\n",
    "    ploty.pop()\n",
    "    \n",
    "    opt_paths.append((plotx, ploty))"
   ]
  },
  {
   "cell_type": "code",
   "execution_count": 19,
   "id": "c7454e26-54b5-4ebc-bd42-8b6c3302edcf",
   "metadata": {},
   "outputs": [],
   "source": [
    "plot_e_matrix_params={\"x\":x,\n",
    "                      \"y\":y,\n",
    "                      \"opt_paths\":opt_paths,\n",
    "                      \"lastChange\":lastChange}"
   ]
  },
  {
   "cell_type": "markdown",
   "id": "c5fb5e94-d800-423b-a7fc-a534c9389759",
   "metadata": {},
   "source": [
    "## 5. Create trainer + train model"
   ]
  },
  {
   "cell_type": "code",
   "execution_count": 20,
   "id": "faa1b1df-38b3-4674-aa4b-090f213e55d7",
   "metadata": {},
   "outputs": [],
   "source": [
    "if not os.path.exists(model_ckp_dir):\n",
    "    os.mkdir(model_ckp_dir)\n",
    "\n",
    "trainer = Trainer(model, \n",
    "                  crit,\n",
    "                  optim=optimizer,\n",
    "                  lr_schedule=scheduler,\n",
    "                  early_stop=es,                        \n",
    "                  train_dl=train_loader,\n",
    "                  val_dl=val_loader,\n",
    "                  device=device_train,\n",
    "                  path_trainer_ckp=model_ckp_dir,\n",
    "                  ckp_prefix=ckp_prefix,\n",
    "                  only_save_best=False,#save model after each checkpoint\n",
    "                  verbose=True,\n",
    "                  logfile = logfile_train,\n",
    "                  split_loss_weakLabels = split_loss_weakLabels,#compute SDTW loss sequentially (as target sequences within a batch have different lengths)\n",
    "                  plot_e_matrix=plot_e_matrix,\n",
    "                  plot_e_matrix_params = plot_e_matrix_params,\n",
    "                  gamma_schedule=gamma_schedule,\n",
    "                  lr_scheduler_start = 0,# adjust this to (steps_const + steps_decay + 1) when using gamma scheduling!\n",
    "                  D_prior_params=D_prior_params\n",
    "                 )"
   ]
  },
  {
   "cell_type": "markdown",
   "id": "5bc43f28-72a1-4721-b09b-59c163d78c8c",
   "metadata": {},
   "source": [
    "### Train model"
   ]
  },
  {
   "cell_type": "code",
   "execution_count": null,
   "id": "92f296b3-e0a0-416a-80bb-aa4ac584737e",
   "metadata": {},
   "outputs": [],
   "source": [
    "train_losses = []\n",
    "\n",
    "start = time()\n",
    "train_losses, val_losses = trainer.fit(epochs=epochs)\n",
    "training_dur = time() - start"
   ]
  },
  {
   "cell_type": "code",
   "execution_count": 22,
   "id": "c85866a7-6b88-4da2-9297-5f4206759ab6",
   "metadata": {},
   "outputs": [
    {
     "name": "stdout",
     "output_type": "stream",
     "text": [
      "Training duration: 00:02:02 [hh:mm:ss]\n"
     ]
    }
   ],
   "source": [
    "training_dur_formatted = strftime('%H:%M:%S', gmtime(training_dur))\n",
    "print(f'Training duration: {training_dur_formatted} [hh:mm:ss]')"
   ]
  },
  {
   "cell_type": "code",
   "execution_count": 24,
   "id": "076a4151-9f61-4b1a-a1ab-d4f0a56d0b6f",
   "metadata": {},
   "outputs": [
    {
     "data": {
      "image/png": "[encoded data removed]",
      "text/plain": [
       "<Figure size 640x480 with 1 Axes>"
      ]
     },
     "metadata": {},
     "output_type": "display_data"
    }
   ],
   "source": [
    "if len(train_losses) > 1:\n",
    "    plt.plot(train_losses, label='Train Loss')\n",
    "    plt.plot(val_losses, label='Val Loss')\n",
    "    plt.xlabel('Epoch')\n",
    "    plt.ylabel('Loss')\n",
    "    plt.title('Loss Curve')\n",
    "    plt.legend()\n",
    "    plt.show()"
   ]
  },
  {
   "cell_type": "markdown",
   "id": "78398f6c-2ead-4863-9c0d-d8ecd726a977",
   "metadata": {},
   "source": [
    "## 6. Test stage"
   ]
  },
  {
   "cell_type": "markdown",
   "id": "c7cdc6e5-92ff-4ecd-a0d3-7405e150ec1a",
   "metadata": {},
   "source": [
    "### quantitative evaluation on test set"
   ]
  },
  {
   "cell_type": "code",
   "execution_count": 25,
   "id": "843f901e-6a63-462d-a918-fa7c642feb6c",
   "metadata": {},
   "outputs": [],
   "source": [
    "all_labels = []\n",
    "all_preds = []\n",
    "model.eval()\n",
    "model.to(device_test)\n",
    "with torch.no_grad():\n",
    "    for i, (x, y) in enumerate(test_loader_strong):\n",
    "        x = x.to(device_test)\n",
    "        all_labels.append(y)\n",
    "        all_preds.append(model(x))"
   ]
  },
  {
   "cell_type": "code",
   "execution_count": 26,
   "id": "a733338e-4df7-4ff3-bf24-63b897950206",
   "metadata": {},
   "outputs": [],
   "source": [
    "lastIdx = len(all_labels)\n",
    "if all_labels[-1].shape[0] != all_labels[0].shape[0]:\n",
    "    lastIdx -= 1"
   ]
  },
  {
   "cell_type": "code",
   "execution_count": 27,
   "id": "1cc0612b-43de-406c-b6ec-8199ae5f6b3d",
   "metadata": {},
   "outputs": [],
   "source": [
    "all_labels_concat = torch.stack(all_labels[:lastIdx]).cpu().numpy()\n",
    "all_preds_concat = torch.stack(all_preds[:lastIdx]).cpu().numpy()"
   ]
  },
  {
   "cell_type": "code",
   "execution_count": 28,
   "id": "ada414c0-9f5a-419f-8542-b0b0ec681622",
   "metadata": {},
   "outputs": [
    {
     "name": "stdout",
     "output_type": "stream",
     "text": [
      "\n",
      "Pytorch - Trained Pipeline:\n",
      "Precision:      0.706\n",
      "Recall:         0.900\n",
      "F-measure:      0.791\n"
     ]
    }
   ],
   "source": [
    "prec, rec, fmeas, _, _, _ = libfmp.c5.compute_eval_measures(all_labels_concat, all_preds_concat>.5)\n",
    "\n",
    "print(f'\\nPytorch - Trained Pipeline:')\n",
    "print(f'{\"Precision:\" : <15}{prec : .3f}')\n",
    "print(f'{\"Recall:\" : <15}{rec : .3f}')\n",
    "print(f'{\"F-measure:\" : <15}{fmeas : .3f}')"
   ]
  },
  {
   "cell_type": "markdown",
   "id": "7c3601a6-3bc8-4644-9f27-c05157a86913",
   "metadata": {},
   "source": [
    "### qualitative evaluation: visualize the elements within a batch"
   ]
  },
  {
   "cell_type": "code",
   "execution_count": null,
   "id": "96603c57-74a6-40ca-ba72-768ecff80f31",
   "metadata": {},
   "outputs": [],
   "source": [
    "nBatches_plot = 10\n",
    "for i in range(nBatches_plot):\n",
    "    list_labels = []\n",
    "    list_preds = []\n",
    "    for b in range(batch_size):\n",
    "        list_labels.append(np.squeeze(all_labels_concat[i,b]))\n",
    "        list_preds.append(np.squeeze(all_preds_concat[i,b]))\n",
    "\n",
    "\n",
    "    fig, ax = plt.subplots(2, 1, figsize=(15, 4))\n",
    "    ax[0].imshow(np.concatenate(list_labels, axis=0).T, origin='lower', aspect='auto', clim=[0,1], cmap='gray_r', interpolation=\"none\")\n",
    "    ax[1].imshow(np.concatenate(list_preds, axis=0).T, origin='lower', aspect='auto', clim=[0,1], cmap='gray_r', interpolation=\"none\")\n",
    "\n",
    "    ax[0].set_yticklabels([])\n",
    "    ax[1].set_yticklabels([])\n",
    "\n",
    "    ax[0].set_ylabel(\"chroma label\")\n",
    "    ax[1].set_ylabel(\"chroma pred.\")\n",
    "    fig.suptitle(\"batch %i\"%(i))\n"
   ]
  }
 ],
 "metadata": {
  "kernelspec": {
   "display_name": "Python 3 (ipykernel)",
   "language": "python",
   "name": "python3"
  },
  "language_info": {
   "codemirror_mode": {
    "name": "ipython",
    "version": 3
   },
   "file_extension": ".py",
   "mimetype": "text/x-python",
   "name": "python",
   "nbconvert_exporter": "python",
   "pygments_lexer": "ipython3",
   "version": "3.8.16"
  }
 },
 "nbformat": 4,
 "nbformat_minor": 5
}
