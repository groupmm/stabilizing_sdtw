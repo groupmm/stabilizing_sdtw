{
 "cells": [
  {
   "cell_type": "markdown",
   "id": "bac98691-27b1-47d2-8152-d8e93e650909",
   "metadata": {},
   "source": [
    "# Dataset preprocessing for deep chroma estimation\n",
    "\n",
    "Johannes Zeitler (johannes.zeitler@audiolabs-erlangen.de), 2023\n",
    "\n",
    "Code base for ISMIR 2023 paper "
   ]
  },
  {
   "cell_type": "code",
   "execution_count": 1,
   "id": "26d0dff4-4c28-4606-ab1b-49d9f481b82d",
   "metadata": {},
   "outputs": [],
   "source": [
    "import numpy as np\n",
    "import librosa\n",
    "import os\n",
    "from libdl.data_preprocessing import hcqt\n",
    "from libfmp import b\n",
    "import h5py"
   ]
  },
  {
   "cell_type": "code",
   "execution_count": 2,
   "id": "04a39754-1ff8-4c9f-ae5c-b89ac4cfa1ae",
   "metadata": {},
   "outputs": [
    {
     "name": "stdout",
     "output_type": "stream",
     "text": [
      "CQT hop Size: 384\n"
     ]
    }
   ],
   "source": [
    "# audio frame rate\n",
    "fs = 22050\n",
    "\n",
    "# CQT config\n",
    "bottomNote = 'C1'\n",
    "bottomPitch = librosa.note_to_midi(bottomNote)\n",
    "numOctaves = 6\n",
    "numHarmonics = 5\n",
    "numSubharmonics = 0\n",
    "binsPerKey = 3\n",
    "hopSizeCQT, fsCQT = hcqt.compute_hopsize_cqt(fs_cqt_target=57, fs=fs, num_octaves=numOctaves)\n",
    "print('CQT hop Size: %i'%(hopSizeCQT))"
   ]
  },
  {
   "cell_type": "code",
   "execution_count": 3,
   "id": "b72983bf-5c07-4c55-874a-833d5dc578af",
   "metadata": {},
   "outputs": [],
   "source": [
    "# location of downloaded Schubert Winterreise Dataset\n",
    "dataset_path = \"../Data/Schubert_Winterreise_Public_zenodo\"\n",
    "# where the audio is stored\n",
    "audioPath_source = os.path.join(dataset_path, \"01_RawData\", \"audio_wav\") \n",
    "# where the pitch labels are stored\n",
    "pitchPath_source = os.path.join(dataset_path, \"02_Annotations\", \"ann_audio_note\")\n",
    "\n",
    "# target directory\n",
    "target_path = \"../Data/Schubert_Winterreise_hcqt\""
   ]
  },
  {
   "cell_type": "code",
   "execution_count": null,
   "id": "573607b2-8532-4f36-8f23-2367e369c09a",
   "metadata": {
    "tags": []
   },
   "outputs": [],
   "source": [
    "# all audio files that we want to process\n",
    "fileNames = [f[:-4] for f in os.listdir(audioPath_source)]\n",
    "\n",
    "for f in fileNames:\n",
    "    print('processing',f)\n",
    "    \n",
    "    # load and resample audio    \n",
    "    audioIn, _ = librosa.load(os.path.join(audioPath_source, f+'.wav'), sr=fs)\n",
    "    \n",
    "    # compute HCQT\n",
    "    hcqtIn, _, _ = hcqt.compute_hcqt(audioIn,\n",
    "                                     fs=fs,\n",
    "                                     fmin=librosa.note_to_hz(bottomNote),\n",
    "                                     fs_hcqt_target=57,\n",
    "                                     bins_per_octave=binsPerKey*12,\n",
    "                                     num_octaves=numOctaves,\n",
    "                                     num_harmonics=numHarmonics,\n",
    "                                     num_subharmonics=numSubharmonics,\n",
    "                                     center_bins=True)\n",
    "    \n",
    "    # read notes and create chromagram\n",
    "    noteIn = b.b_annotation.read_csv(os.path.join(pitchPath_source, f+\".csv\"), header=True, add_label=False)\n",
    "    noteList = [[note[1].start, note[1].end - note[1].start, note[1].pitch] for note in noteIn.iterrows()]\n",
    "    chromagram = b.b_sonification.list_to_chromagram(noteList,\n",
    "                                                            num_frames = hcqtIn.shape[1],\n",
    "                                                            frame_rate = fsCQT)\n",
    "    \n",
    "    # store as .h5 file\n",
    "    hf = h5py.File(os.path.join(target_path, f+\".h5\"), \"w\")\n",
    "    hf.create_dataset(\"hcqt\", data=np.swapaxes(hcqtIn, 0, 2).astype(\"float32\"))       # 5 x frames x 216\n",
    "    hf.create_dataset(\"chroma\", data=chromagram[None, None,:,:].astype(\"float32\"))     # 1 x 1 x 12 x frames\n",
    "    hf.close()\n",
    "    \n",
    "    "
   ]
  }
 ],
 "metadata": {
  "kernelspec": {
   "display_name": "Python 3 (ipykernel)",
   "language": "python",
   "name": "python3"
  },
  "language_info": {
   "codemirror_mode": {
    "name": "ipython",
    "version": 3
   },
   "file_extension": ".py",
   "mimetype": "text/x-python",
   "name": "python",
   "nbconvert_exporter": "python",
   "pygments_lexer": "ipython3",
   "version": "3.8.16"
  }
 },
 "nbformat": 4,
 "nbformat_minor": 5
}
